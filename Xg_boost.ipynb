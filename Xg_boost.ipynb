{
 "cells": [
  {
   "cell_type": "code",
   "execution_count": 2,
   "metadata": {},
   "outputs": [],
   "source": [
    "import librosa\n",
    "import numpy as np\n",
    "import pywt\n",
    "from sklearn.model_selection import train_test_split\n",
    "from sklearn.metrics import classification_report, accuracy_score\n",
    "import xgboost as xgb\n",
    "import os\n",
    "import glob\n",
    "import pandas as pd"
   ]
  },
  {
   "cell_type": "code",
   "execution_count": 3,
   "metadata": {},
   "outputs": [],
   "source": [
    "# Path to your data folder, where heart sound .wav files are stored in class-wise folders\n",
    "data_path =  'Data'# Change this to your actual data path\n",
    "\n",
    "\n",
    "data = {\n",
    "    'Mitral Stenosis (MS)': [],  \n",
    "    'Mitral Regurgitation (MR)': [],  \n",
    "    'Mitral Valve Prolapse (MVP)': [],  \n",
    "    'Aortic Stenosis (AS)': [],  \n",
    "    'Normal': []  \n",
    "}"
   ]
  },
  {
   "cell_type": "code",
   "execution_count": 4,
   "metadata": {},
   "outputs": [],
   "source": [
    "def extract_features(file_path):\n",
    "    features = []\n",
    "    y, sr = librosa.load(file_path, sr=None)\n",
    "\n",
    "    # Log Mel Spectrogram\n",
    "    mel_spect = librosa.feature.melspectrogram(y=y, sr=sr, n_mels=128)\n",
    "    log_mel_spect = librosa.power_to_db(mel_spect)\n",
    "    features.append(np.mean(log_mel_spect, axis=1))\n",
    "\n",
    "    # MFCC\n",
    "    mfccs = librosa.feature.mfcc(y=y, sr=sr, n_mfcc=13)\n",
    "    features.append(np.mean(mfccs, axis=1))\n",
    "\n",
    "    # Delta and Delta-Delta (MFCC Derivatives)\n",
    "    delta_mfcc = librosa.feature.delta(mfccs)\n",
    "    delta_delta_mfcc = librosa.feature.delta(mfccs, order=2)\n",
    "    features.append(np.mean(delta_mfcc, axis=1))\n",
    "    features.append(np.mean(delta_delta_mfcc, axis=1))\n",
    "\n",
    "    # Discrete Wavelet Transform (DWT)\n",
    "    coeffs = pywt.wavedec(y, 'db1', level=5)\n",
    "    features.append(np.hstack([np.mean(c) for c in coeffs]))\n",
    "\n",
    "    # Chroma Feature\n",
    "    chroma = librosa.feature.chroma_stft(y=y, sr=sr)\n",
    "    features.append(np.mean(chroma, axis=1))\n",
    "\n",
    "    # Zero-Crossing Rate\n",
    "    zcr = librosa.feature.zero_crossing_rate(y)\n",
    "    features.append(np.mean(zcr))\n",
    "\n",
    "    # Spectral Centroid\n",
    "    spectral_centroid = librosa.feature.spectral_centroid(y=y, sr=sr)\n",
    "    features.append(np.mean(spectral_centroid))\n",
    "\n",
    "    # Spectral Contrast with adjusted fmin\n",
    "    spectral_contrast = librosa.feature.spectral_contrast(y=y, sr=sr, fmin=20.0)\n",
    "    features.append(np.mean(spectral_contrast, axis=1))\n",
    "\n",
    "    # Energy (RMS)\n",
    "    rms = librosa.feature.rms(y=y)\n",
    "    features.append(np.mean(rms))\n",
    "\n",
    "    # Temporal Flatness (Spectral Flatness)\n",
    "    flatness = librosa.feature.spectral_flatness(y=y)\n",
    "    features.append(np.mean(flatness))\n",
    "\n",
    "    return np.hstack(features)"
   ]
  },
  {
   "cell_type": "code",
   "execution_count": 5,
   "metadata": {},
   "outputs": [
    {
     "name": "stderr",
     "output_type": "stream",
     "text": [
      "c:\\Users\\pasar\\anaconda3\\envs\\Heart\\Lib\\site-packages\\librosa\\core\\pitch.py:101: UserWarning: Trying to estimate tuning from empty frequency set.\n",
      "  return pitch_tuning(\n"
     ]
    },
    {
     "name": "stdout",
     "output_type": "stream",
     "text": [
      "Feature extraction completed.\n"
     ]
    }
   ],
   "source": [
    "for label in data.keys():\n",
    "    folder = os.path.join(data_path, label)\n",
    "    features_list = []\n",
    "    for file in glob.glob(folder + \"/*.wav\"):\n",
    "        features = extract_features(file)\n",
    "        if features.size > 0:\n",
    "            features_list.append(features)\n",
    "        else:\n",
    "            print(f\"No features extracted for file: {file}\")\n",
    "    data[label] = np.array(features_list)  # Convert to NumPy array\n",
    "\n",
    "print(\"Feature extraction completed.\")"
   ]
  },
  {
   "cell_type": "code",
   "execution_count": 6,
   "metadata": {},
   "outputs": [
    {
     "name": "stdout",
     "output_type": "stream",
     "text": [
      "Shape of X (feature matrix): (1000, 196)\n",
      "Shape of y (labels): (1000,)\n"
     ]
    }
   ],
   "source": [
    "X = np.vstack([data['Aortic Stenosis (AS)'],\n",
    "               data['Mitral Stenosis (MS)'],\n",
    "               data['Mitral Regurgitation (MR)'],\n",
    "               data['Mitral Valve Prolapse (MVP)'],\n",
    "               data['Normal']])\n",
    "\n",
    "y = np.concatenate([[0] * len(data['Aortic Stenosis (AS)']),\n",
    "                    [1] * len(data['Mitral Stenosis (MS)']),\n",
    "                    [2] * len(data['Mitral Regurgitation (MR)']),\n",
    "                    [3] * len(data['Mitral Valve Prolapse (MVP)']),\n",
    "                    [4] * len(data['Normal'])])\n",
    "\n",
    "print(f\"Shape of X (feature matrix): {X.shape}\")\n",
    "print(f\"Shape of y (labels): {y.shape}\")\n"
   ]
  },
  {
   "cell_type": "code",
   "execution_count": 15,
   "metadata": {},
   "outputs": [],
   "source": [
    "# Ensure X_train and y_train are defined\n",
    "X_train, X_temp, y_train, y_temp = train_test_split(X, y, test_size=0.3, random_state=42, stratify=y)\n",
    "X_test, X_val, y_test, y_val = train_test_split(X_temp, y_temp, test_size=0.5, random_state=42, stratify=y_temp)\n"
   ]
  },
  {
   "cell_type": "code",
   "execution_count": 31,
   "metadata": {},
   "outputs": [],
   "source": [
    "clf = xgb.XGBClassifier(\n",
    "    objective='multi:softmax',  # For multi-class classification\n",
    "    num_class=5,                # Replace with the number of classes in your dataset\n",
    "    eval_metric='mlogloss',     # Multiclass log-loss\n",
    "    use_label_encoder=False,    # Suppress warning in newer versions\n",
    "    max_depth=6,                # Depth of the trees\n",
    "    eta=0.3,                    # Learning rate\n",
    "    n_estimators=100            # Number of trees\n",
    ")"
   ]
  },
  {
   "cell_type": "code",
   "execution_count": 35,
   "metadata": {},
   "outputs": [
    {
     "name": "stderr",
     "output_type": "stream",
     "text": [
      "c:\\Users\\pasar\\anaconda3\\envs\\Heart\\Lib\\site-packages\\xgboost\\core.py:158: UserWarning: [22:38:15] WARNING: C:\\buildkite-agent\\builds\\buildkite-windows-cpu-autoscaling-group-i-0c55ff5f71b100e98-1\\xgboost\\xgboost-ci-windows\\src\\learner.cc:740: \n",
      "Parameters: { \"use_label_encoder\" } are not used.\n",
      "\n",
      "  warnings.warn(smsg, UserWarning)\n"
     ]
    }
   ],
   "source": [
    "model=clf.fit(X_train, y_train)"
   ]
  },
  {
   "cell_type": "code",
   "execution_count": 37,
   "metadata": {},
   "outputs": [],
   "source": [
    "y_pred = model.predict(X_test)"
   ]
  },
  {
   "cell_type": "code",
   "execution_count": 38,
   "metadata": {},
   "outputs": [
    {
     "name": "stdout",
     "output_type": "stream",
     "text": [
      "Accuracy: 0.9873417721518988\n"
     ]
    }
   ],
   "source": [
    "accuracy = accuracy_score(y_test, y_pred)\n",
    "print(f\"Accuracy: {accuracy}\")"
   ]
  },
  {
   "cell_type": "code",
   "execution_count": 16,
   "metadata": {},
   "outputs": [
    {
     "name": "stdout",
     "output_type": "stream",
     "text": [
      "Iteration 1/10\n",
      "Random Train-Test split for iteration 1: Train Size = 85.58%, Test Size = 14.42%\n"
     ]
    },
    {
     "name": "stderr",
     "output_type": "stream",
     "text": [
      "c:\\Users\\pasar\\anaconda3\\envs\\Heart\\Lib\\site-packages\\xgboost\\core.py:158: UserWarning: [22:20:57] WARNING: C:\\buildkite-agent\\builds\\buildkite-windows-cpu-autoscaling-group-i-0c55ff5f71b100e98-1\\xgboost\\xgboost-ci-windows\\src\\learner.cc:740: \n",
      "Parameters: { \"use_label_encoder\" } are not used.\n",
      "\n",
      "  warnings.warn(smsg, UserWarning)\n"
     ]
    },
    {
     "name": "stdout",
     "output_type": "stream",
     "text": [
      "Accuracy for iteration 1: 97.93%\n",
      "Iteration 2/10\n",
      "Random Train-Test split for iteration 2: Train Size = 62.80%, Test Size = 37.20%\n"
     ]
    },
    {
     "name": "stderr",
     "output_type": "stream",
     "text": [
      "c:\\Users\\pasar\\anaconda3\\envs\\Heart\\Lib\\site-packages\\xgboost\\core.py:158: UserWarning: [22:20:58] WARNING: C:\\buildkite-agent\\builds\\buildkite-windows-cpu-autoscaling-group-i-0c55ff5f71b100e98-1\\xgboost\\xgboost-ci-windows\\src\\learner.cc:740: \n",
      "Parameters: { \"use_label_encoder\" } are not used.\n",
      "\n",
      "  warnings.warn(smsg, UserWarning)\n"
     ]
    },
    {
     "name": "stdout",
     "output_type": "stream",
     "text": [
      "Accuracy for iteration 2: 97.04%\n",
      "Iteration 3/10\n",
      "Random Train-Test split for iteration 3: Train Size = 66.76%, Test Size = 33.24%\n"
     ]
    },
    {
     "name": "stderr",
     "output_type": "stream",
     "text": [
      "c:\\Users\\pasar\\anaconda3\\envs\\Heart\\Lib\\site-packages\\xgboost\\core.py:158: UserWarning: [22:20:58] WARNING: C:\\buildkite-agent\\builds\\buildkite-windows-cpu-autoscaling-group-i-0c55ff5f71b100e98-1\\xgboost\\xgboost-ci-windows\\src\\learner.cc:740: \n",
      "Parameters: { \"use_label_encoder\" } are not used.\n",
      "\n",
      "  warnings.warn(smsg, UserWarning)\n"
     ]
    },
    {
     "name": "stdout",
     "output_type": "stream",
     "text": [
      "Accuracy for iteration 3: 97.30%\n",
      "Iteration 4/10\n",
      "Random Train-Test split for iteration 4: Train Size = 85.85%, Test Size = 14.15%\n"
     ]
    },
    {
     "name": "stderr",
     "output_type": "stream",
     "text": [
      "c:\\Users\\pasar\\anaconda3\\envs\\Heart\\Lib\\site-packages\\xgboost\\core.py:158: UserWarning: [22:20:59] WARNING: C:\\buildkite-agent\\builds\\buildkite-windows-cpu-autoscaling-group-i-0c55ff5f71b100e98-1\\xgboost\\xgboost-ci-windows\\src\\learner.cc:740: \n",
      "Parameters: { \"use_label_encoder\" } are not used.\n",
      "\n",
      "  warnings.warn(smsg, UserWarning)\n"
     ]
    },
    {
     "name": "stdout",
     "output_type": "stream",
     "text": [
      "Accuracy for iteration 4: 97.89%\n",
      "Iteration 5/10\n",
      "Random Train-Test split for iteration 5: Train Size = 66.13%, Test Size = 33.87%\n"
     ]
    },
    {
     "name": "stderr",
     "output_type": "stream",
     "text": [
      "c:\\Users\\pasar\\anaconda3\\envs\\Heart\\Lib\\site-packages\\xgboost\\core.py:158: UserWarning: [22:21:00] WARNING: C:\\buildkite-agent\\builds\\buildkite-windows-cpu-autoscaling-group-i-0c55ff5f71b100e98-1\\xgboost\\xgboost-ci-windows\\src\\learner.cc:740: \n",
      "Parameters: { \"use_label_encoder\" } are not used.\n",
      "\n",
      "  warnings.warn(smsg, UserWarning)\n"
     ]
    },
    {
     "name": "stdout",
     "output_type": "stream",
     "text": [
      "Accuracy for iteration 5: 97.64%\n",
      "Iteration 6/10\n",
      "Random Train-Test split for iteration 6: Train Size = 62.00%, Test Size = 38.00%\n"
     ]
    },
    {
     "name": "stderr",
     "output_type": "stream",
     "text": [
      "c:\\Users\\pasar\\anaconda3\\envs\\Heart\\Lib\\site-packages\\xgboost\\core.py:158: UserWarning: [22:21:00] WARNING: C:\\buildkite-agent\\builds\\buildkite-windows-cpu-autoscaling-group-i-0c55ff5f71b100e98-1\\xgboost\\xgboost-ci-windows\\src\\learner.cc:740: \n",
      "Parameters: { \"use_label_encoder\" } are not used.\n",
      "\n",
      "  warnings.warn(smsg, UserWarning)\n"
     ]
    },
    {
     "name": "stdout",
     "output_type": "stream",
     "text": [
      "Accuracy for iteration 6: 95.54%\n",
      "Iteration 7/10\n",
      "Random Train-Test split for iteration 7: Train Size = 62.09%, Test Size = 37.91%\n"
     ]
    },
    {
     "name": "stderr",
     "output_type": "stream",
     "text": [
      "c:\\Users\\pasar\\anaconda3\\envs\\Heart\\Lib\\site-packages\\xgboost\\core.py:158: UserWarning: [22:21:01] WARNING: C:\\buildkite-agent\\builds\\buildkite-windows-cpu-autoscaling-group-i-0c55ff5f71b100e98-1\\xgboost\\xgboost-ci-windows\\src\\learner.cc:740: \n",
      "Parameters: { \"use_label_encoder\" } are not used.\n",
      "\n",
      "  warnings.warn(smsg, UserWarning)\n"
     ]
    },
    {
     "name": "stdout",
     "output_type": "stream",
     "text": [
      "Accuracy for iteration 7: 95.79%\n",
      "Iteration 8/10\n",
      "Random Train-Test split for iteration 8: Train Size = 62.77%, Test Size = 37.23%\n"
     ]
    },
    {
     "name": "stderr",
     "output_type": "stream",
     "text": [
      "c:\\Users\\pasar\\anaconda3\\envs\\Heart\\Lib\\site-packages\\xgboost\\core.py:158: UserWarning: [22:21:01] WARNING: C:\\buildkite-agent\\builds\\buildkite-windows-cpu-autoscaling-group-i-0c55ff5f71b100e98-1\\xgboost\\xgboost-ci-windows\\src\\learner.cc:740: \n",
      "Parameters: { \"use_label_encoder\" } are not used.\n",
      "\n",
      "  warnings.warn(smsg, UserWarning)\n"
     ]
    },
    {
     "name": "stdout",
     "output_type": "stream",
     "text": [
      "Accuracy for iteration 8: 97.86%\n",
      "Iteration 9/10\n",
      "Random Train-Test split for iteration 9: Train Size = 81.05%, Test Size = 18.95%\n"
     ]
    },
    {
     "name": "stderr",
     "output_type": "stream",
     "text": [
      "c:\\Users\\pasar\\anaconda3\\envs\\Heart\\Lib\\site-packages\\xgboost\\core.py:158: UserWarning: [22:21:02] WARNING: C:\\buildkite-agent\\builds\\buildkite-windows-cpu-autoscaling-group-i-0c55ff5f71b100e98-1\\xgboost\\xgboost-ci-windows\\src\\learner.cc:740: \n",
      "Parameters: { \"use_label_encoder\" } are not used.\n",
      "\n",
      "  warnings.warn(smsg, UserWarning)\n"
     ]
    },
    {
     "name": "stdout",
     "output_type": "stream",
     "text": [
      "Accuracy for iteration 9: 97.89%\n",
      "Iteration 10/10\n",
      "Random Train-Test split for iteration 10: Train Size = 68.49%, Test Size = 31.51%\n"
     ]
    },
    {
     "name": "stderr",
     "output_type": "stream",
     "text": [
      "c:\\Users\\pasar\\anaconda3\\envs\\Heart\\Lib\\site-packages\\xgboost\\core.py:158: UserWarning: [22:21:02] WARNING: C:\\buildkite-agent\\builds\\buildkite-windows-cpu-autoscaling-group-i-0c55ff5f71b100e98-1\\xgboost\\xgboost-ci-windows\\src\\learner.cc:740: \n",
      "Parameters: { \"use_label_encoder\" } are not used.\n",
      "\n",
      "  warnings.warn(smsg, UserWarning)\n"
     ]
    },
    {
     "name": "stdout",
     "output_type": "stream",
     "text": [
      "Accuracy for iteration 10: 98.73%\n",
      "\n",
      "Average accuracy over 10 iterations: 97.36%\n",
      "\n",
      "Average Precision per Class:\n",
      "Aortic Stenosis (AS): 0.9626\n",
      "Mitral Stenosis (MS): 0.9802\n",
      "Mitral Regurgitation (MR): 0.9620\n",
      "Mitral Valve Prolapse (MVP): 0.9879\n",
      "Normal: 0.9779\n",
      "macro avg: 0.9741\n",
      "weighted avg: 0.9741\n"
     ]
    }
   ],
   "source": [
    "\n",
    "# Number of iterations for Monte Carlo Cross-Validation\n",
    "n_iterations = 10  # Number of MCCV iterations\n",
    "accuracies = []\n",
    "classification_reports = []\n",
    "\n",
    "\n",
    "# Monte Carlo Cross-Validation\n",
    "for i in range(n_iterations):\n",
    "    print(f\"Iteration {i+1}/{n_iterations}\")\n",
    "    \n",
    "    # Randomly select a train-test split ratio between 0.6 and 0.9 for the train set\n",
    "    train_size = np.random.uniform(0.6, 0.9)\n",
    "    test_size = 1 - train_size\n",
    "    \n",
    "    print(f\"Random Train-Test split for iteration {i+1}: Train Size = {train_size*100:.2f}%, Test Size = {test_size*100:.2f}%\")\n",
    "    \n",
    "    # Step 1: Randomly split into training + test sets\n",
    "    X_train, X_test, y_train, y_test = train_test_split(X, y, test_size=test_size, random_state=i, stratify=y)\n",
    "    \n",
    "    # Step 2: Split the training data into training and validation sets (fixed ratio, e.g., 80-20)\n",
    "    validation_size = 0.2  # Proportion of the training data used for validation\n",
    "    X_train, X_valid, y_train, y_valid = train_test_split(X_train, y_train, test_size=validation_size, random_state=i, stratify=y_train)\n",
    "    \n",
    "    # Train the XGBoost classifier\n",
    "    clf = xgb.XGBClassifier(\n",
    "        objective='multi:softmax',  # Multi-class classification\n",
    "        num_class=5,                # 5 classes\n",
    "        eval_metric='mlogloss',\n",
    "        use_label_encoder=False\n",
    "    )\n",
    "    \n",
    "    clf.fit(X_train, y_train)  # Train the model\n",
    "    \n",
    "    # Step 3: Predict the test set\n",
    "    y_pred = clf.predict(X_test)\n",
    "    \n",
    "    accuracy = accuracy_score(y_test, y_pred)\n",
    "    accuracies.append(accuracy)\n",
    "    \n",
    "    # \n",
    "    report = classification_report(y_test, y_pred, target_names=[\n",
    "        'Aortic Stenosis (AS)', 'Mitral Stenosis (MS)', \n",
    "        'Mitral Regurgitation (MR)', 'Mitral Valve Prolapse (MVP)', \n",
    "        'Normal'], output_dict=True)\n",
    "    classification_reports.append(report)\n",
    "    \n",
    "    print(f\"Accuracy for iteration {i+1}: {accuracy * 100:.2f}%\")\n",
    "\n",
    "\n",
    "mean_accuracy = np.mean(accuracies)\n",
    "print(f\"\\nAverage accuracy over {n_iterations} iterations: {mean_accuracy * 100:.2f}%\")\n",
    "\n",
    "# Step 8: Calculate average precision for each class across iterations\n",
    "class_precision = {class_name: np.mean([report[class_name]['precision'] for report in classification_reports]) \n",
    "                   for class_name in classification_reports[0].keys() if class_name != 'accuracy'}\n",
    "\n",
    "print(\"\\nAverage Precision per Class:\")\n",
    "for class_name, precision in class_precision.items():\n",
    "    print(f\"{class_name}: {precision:.4f}\")\n",
    "\n",
    "\n",
    "\n",
    "\n",
    "\n"
   ]
  },
  {
   "cell_type": "code",
   "execution_count": 17,
   "metadata": {},
   "outputs": [],
   "source": [
    "y_pred = clf.predict(X_test)"
   ]
  },
  {
   "cell_type": "code",
   "execution_count": 18,
   "metadata": {},
   "outputs": [
    {
     "name": "stdout",
     "output_type": "stream",
     "text": [
      "Classification Report:\n",
      "                             precision    recall  f1-score   support\n",
      "\n",
      "       Aortic Stenosis (AS)       1.00      0.95      0.98        63\n",
      "       Mitral Stenosis (MS)       1.00      1.00      1.00        63\n",
      "  Mitral Regurgitation (MR)       0.95      1.00      0.98        63\n",
      "Mitral Valve Prolapse (MVP)       0.98      0.98      0.98        63\n",
      "                     Normal       1.00      1.00      1.00        64\n",
      "\n",
      "                   accuracy                           0.99       316\n",
      "                  macro avg       0.99      0.99      0.99       316\n",
      "               weighted avg       0.99      0.99      0.99       316\n",
      "\n",
      "Accuracy: 98.73%\n"
     ]
    }
   ],
   "source": [
    "# Classification report\n",
    "print(\"Classification Report:\")\n",
    "print(classification_report(y_test, y_pred, target_names=[\n",
    "    'Aortic Stenosis (AS)', 'Mitral Stenosis (MS)', \n",
    "    'Mitral Regurgitation (MR)', 'Mitral Valve Prolapse (MVP)', \n",
    "    'Normal']))\n",
    "\n",
    "# Accuracy\n",
    "accuracy = accuracy_score(y_test, y_pred)\n",
    "print(f\"Accuracy: {accuracy * 100:.2f}%\")"
   ]
  },
  {
   "cell_type": "code",
   "execution_count": 19,
   "metadata": {},
   "outputs": [],
   "source": [
    "# %% Train XGBoost Classifier\n",
    "clf = xgb.XGBClassifier(\n",
    "    objective='multi:softmax',  # For multi-class classification\n",
    "    num_class=5,                # We have 5 classes\n",
    "    eval_metric='mlogloss',\n",
    "    use_label_encoder=False\n",
    ")"
   ]
  },
  {
   "cell_type": "code",
   "execution_count": 20,
   "metadata": {},
   "outputs": [
    {
     "name": "stderr",
     "output_type": "stream",
     "text": [
      "c:\\Users\\pasar\\anaconda3\\envs\\Heart\\Lib\\site-packages\\xgboost\\core.py:158: UserWarning: [22:21:15] WARNING: C:\\buildkite-agent\\builds\\buildkite-windows-cpu-autoscaling-group-i-0c55ff5f71b100e98-1\\xgboost\\xgboost-ci-windows\\src\\learner.cc:740: \n",
      "Parameters: { \"use_label_encoder\" } are not used.\n",
      "\n",
      "  warnings.warn(smsg, UserWarning)\n"
     ]
    }
   ],
   "source": [
    "y_check=clf.fit(X_train, y_train)"
   ]
  },
  {
   "cell_type": "code",
   "execution_count": 21,
   "metadata": {},
   "outputs": [
    {
     "name": "stdout",
     "output_type": "stream",
     "text": [
      "Classification Report:\n",
      "                             precision    recall  f1-score   support\n",
      "\n",
      "       Aortic Stenosis (AS)       1.00      1.00      1.00       109\n",
      "       Mitral Stenosis (MS)       1.00      1.00      1.00       110\n",
      "  Mitral Regurgitation (MR)       1.00      1.00      1.00       109\n",
      "Mitral Valve Prolapse (MVP)       1.00      1.00      1.00       110\n",
      "                     Normal       1.00      1.00      1.00       109\n",
      "\n",
      "                   accuracy                           1.00       547\n",
      "                  macro avg       1.00      1.00      1.00       547\n",
      "               weighted avg       1.00      1.00      1.00       547\n",
      "\n"
     ]
    },
    {
     "data": {
      "image/png": "[encoded data removed]",
      "text/plain": [
       "<Figure size 640x480 with 2 Axes>"
      ]
     },
     "metadata": {},
     "output_type": "display_data"
    }
   ],
   "source": [
    "from sklearn.metrics import confusion_matrix, ConfusionMatrixDisplay\n",
    "import matplotlib.pyplot as plt\n",
    "\n",
    "# Performance metrics\n",
    "y_check_pred = clf.predict(X_train)\n",
    "\n",
    "print(\"Classification Report:\")\n",
    "report = classification_report(y_train, y_check_pred, target_names=[\n",
    "    'Aortic Stenosis (AS)', 'Mitral Stenosis (MS)', \n",
    "    'Mitral Regurgitation (MR)', 'Mitral Valve Prolapse (MVP)', \n",
    "    'Normal'])\n",
    "print(report)\n",
    "\n",
    "# Confusion Matrix\n",
    "cm = confusion_matrix(y_train, y_check_pred)\n",
    "disp = ConfusionMatrixDisplay(confusion_matrix=cm, display_labels=[\n",
    "    ' (AS)', ' (MS)', \n",
    "    ' (MR)', ' (MVP)', \n",
    "    'Normal'])\n",
    "\n",
    "# Plot confusion matrix\n",
    "disp.plot(cmap=plt.cm.Blues)\n",
    "plt.title(\"Confusion Matrix-train\")\n",
    "plt.show()"
   ]
  }
 ],
 "metadata": {
  "kernelspec": {
   "display_name": "Heart",
   "language": "python",
   "name": "python3"
  },
  "language_info": {
   "codemirror_mode": {
    "name": "ipython",
    "version": 3
   },
   "file_extension": ".py",
   "mimetype": "text/x-python",
   "name": "python",
   "nbconvert_exporter": "python",
   "pygments_lexer": "ipython3",
   "version": "3.11.11"
  }
 },
 "nbformat": 4,
 "nbformat_minor": 2
}
